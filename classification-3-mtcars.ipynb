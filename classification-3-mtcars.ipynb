{
 "cells": [
  {
   "cell_type": "markdown",
   "metadata": {},
   "source": [
    "## What is Classification? (with mtcars)\n"
   ]
  },
  {
   "cell_type": "markdown",
   "metadata": {},
   "source": [
    "## Setup and Imports"
   ]
  },
  {
   "cell_type": "code",
   "execution_count": 1,
   "metadata": {},
   "outputs": [],
   "source": [
    "%load_ext rpy2.ipython\n",
    "%load_ext autoreload\n",
    "%autoreload 2\n",
    "\n",
    "%matplotlib inline  \n",
    "from matplotlib import rcParams\n",
    "rcParams['figure.figsize'] = (16, 100)\n",
    "\n",
    "import warnings\n",
    "from rpy2.rinterface import RRuntimeWarning\n",
    "warnings.filterwarnings(\"ignore\") # Ignore all warnings\n",
    "# warnings.filterwarnings(\"ignore\", category=RRuntimeWarning) # Show some warnings\n",
    "\n",
    "import pandas as pd\n",
    "import numpy as np\n",
    "import matplotlib.pyplot as plt\n",
    "from IPython.display import display, HTML"
   ]
  },
  {
   "cell_type": "code",
   "execution_count": 2,
   "metadata": {},
   "outputs": [
    {
     "name": "stdout",
     "output_type": "stream",
     "text": [
      "Requirement already satisfied: plotnine in /Users/shalakashinde/.pyenv/versions/3.11.0/lib/python3.11/site-packages (0.12.1)\n",
      "Requirement already satisfied: matplotlib>=3.6.0 in /Users/shalakashinde/.pyenv/versions/3.11.0/lib/python3.11/site-packages (from plotnine) (3.7.1)\n",
      "Requirement already satisfied: mizani>=0.9.0 in /Users/shalakashinde/.pyenv/versions/3.11.0/lib/python3.11/site-packages (from plotnine) (0.9.0)\n",
      "Requirement already satisfied: numpy>=1.23.0 in /Users/shalakashinde/.pyenv/versions/3.11.0/lib/python3.11/site-packages (from plotnine) (1.23.5)\n",
      "Requirement already satisfied: pandas>=1.5.0 in /Users/shalakashinde/.pyenv/versions/3.11.0/lib/python3.11/site-packages (from plotnine) (1.5.3)\n",
      "Requirement already satisfied: patsy>=0.5.1 in /Users/shalakashinde/.pyenv/versions/3.11.0/lib/python3.11/site-packages (from plotnine) (0.5.3)\n",
      "Requirement already satisfied: scipy>=1.5.0 in /Users/shalakashinde/.pyenv/versions/3.11.0/lib/python3.11/site-packages (from plotnine) (1.10.1)\n",
      "Requirement already satisfied: statsmodels>=0.14.0 in /Users/shalakashinde/.pyenv/versions/3.11.0/lib/python3.11/site-packages (from plotnine) (0.14.0)\n",
      "Requirement already satisfied: contourpy>=1.0.1 in /Users/shalakashinde/.pyenv/versions/3.11.0/lib/python3.11/site-packages (from matplotlib>=3.6.0->plotnine) (1.0.7)\n",
      "Requirement already satisfied: cycler>=0.10 in /Users/shalakashinde/.pyenv/versions/3.11.0/lib/python3.11/site-packages (from matplotlib>=3.6.0->plotnine) (0.11.0)\n",
      "Requirement already satisfied: fonttools>=4.22.0 in /Users/shalakashinde/.pyenv/versions/3.11.0/lib/python3.11/site-packages (from matplotlib>=3.6.0->plotnine) (4.39.4)\n",
      "Requirement already satisfied: kiwisolver>=1.0.1 in /Users/shalakashinde/.pyenv/versions/3.11.0/lib/python3.11/site-packages (from matplotlib>=3.6.0->plotnine) (1.4.4)\n",
      "Requirement already satisfied: packaging>=20.0 in /Users/shalakashinde/.pyenv/versions/3.11.0/lib/python3.11/site-packages (from matplotlib>=3.6.0->plotnine) (23.1)\n",
      "Requirement already satisfied: pillow>=6.2.0 in /Users/shalakashinde/.pyenv/versions/3.11.0/lib/python3.11/site-packages (from matplotlib>=3.6.0->plotnine) (9.5.0)\n",
      "Requirement already satisfied: pyparsing>=2.3.1 in /Users/shalakashinde/.pyenv/versions/3.11.0/lib/python3.11/site-packages (from matplotlib>=3.6.0->plotnine) (3.0.9)\n",
      "Requirement already satisfied: python-dateutil>=2.7 in /Users/shalakashinde/.pyenv/versions/3.11.0/lib/python3.11/site-packages (from matplotlib>=3.6.0->plotnine) (2.8.2)\n",
      "Requirement already satisfied: pytz>=2020.1 in /Users/shalakashinde/.pyenv/versions/3.11.0/lib/python3.11/site-packages (from pandas>=1.5.0->plotnine) (2023.3)\n",
      "Requirement already satisfied: six in /Users/shalakashinde/.pyenv/versions/3.11.0/lib/python3.11/site-packages (from patsy>=0.5.1->plotnine) (1.16.0)\n",
      "\n",
      "\u001b[1m[\u001b[0m\u001b[34;49mnotice\u001b[0m\u001b[1;39;49m]\u001b[0m\u001b[39;49m A new release of pip available: \u001b[0m\u001b[31;49m22.3\u001b[0m\u001b[39;49m -> \u001b[0m\u001b[32;49m23.1.2\u001b[0m\n",
      "\u001b[1m[\u001b[0m\u001b[34;49mnotice\u001b[0m\u001b[1;39;49m]\u001b[0m\u001b[39;49m To update, run: \u001b[0m\u001b[32;49mpip install --upgrade pip\u001b[0m\n"
     ]
    }
   ],
   "source": [
    "!pip install plotnine"
   ]
  },
  {
   "cell_type": "code",
   "execution_count": 5,
   "metadata": {},
   "outputs": [
    {
     "name": "stdout",
     "output_type": "stream",
     "text": [
      "Requirement already satisfied: statsmodels in /Users/shalakashinde/.pyenv/versions/3.11.0/lib/python3.11/site-packages (0.14.0)\n",
      "Requirement already satisfied: numpy>=1.18 in /Users/shalakashinde/.pyenv/versions/3.11.0/lib/python3.11/site-packages (from statsmodels) (1.23.5)\n",
      "Requirement already satisfied: scipy!=1.9.2,>=1.4 in /Users/shalakashinde/.pyenv/versions/3.11.0/lib/python3.11/site-packages (from statsmodels) (1.10.1)\n",
      "Requirement already satisfied: pandas>=1.0 in /Users/shalakashinde/.pyenv/versions/3.11.0/lib/python3.11/site-packages (from statsmodels) (1.5.3)\n",
      "Requirement already satisfied: patsy>=0.5.2 in /Users/shalakashinde/.pyenv/versions/3.11.0/lib/python3.11/site-packages (from statsmodels) (0.5.3)\n",
      "Requirement already satisfied: packaging>=21.3 in /Users/shalakashinde/.pyenv/versions/3.11.0/lib/python3.11/site-packages (from statsmodels) (23.1)\n",
      "Requirement already satisfied: python-dateutil>=2.8.1 in /Users/shalakashinde/.pyenv/versions/3.11.0/lib/python3.11/site-packages (from pandas>=1.0->statsmodels) (2.8.2)\n",
      "Requirement already satisfied: pytz>=2020.1 in /Users/shalakashinde/.pyenv/versions/3.11.0/lib/python3.11/site-packages (from pandas>=1.0->statsmodels) (2023.3)\n",
      "Requirement already satisfied: six in /Users/shalakashinde/.pyenv/versions/3.11.0/lib/python3.11/site-packages (from patsy>=0.5.2->statsmodels) (1.16.0)\n",
      "\n",
      "\u001b[1m[\u001b[0m\u001b[34;49mnotice\u001b[0m\u001b[1;39;49m]\u001b[0m\u001b[39;49m A new release of pip available: \u001b[0m\u001b[31;49m22.3\u001b[0m\u001b[39;49m -> \u001b[0m\u001b[32;49m23.1.2\u001b[0m\n",
      "\u001b[1m[\u001b[0m\u001b[34;49mnotice\u001b[0m\u001b[1;39;49m]\u001b[0m\u001b[39;49m To update, run: \u001b[0m\u001b[32;49mpip install --upgrade pip\u001b[0m\n"
     ]
    }
   ],
   "source": [
    "!pip install statsmodels"
   ]
  },
  {
   "cell_type": "code",
   "execution_count": 6,
   "metadata": {},
   "outputs": [
    {
     "ename": "ModuleNotFoundError",
     "evalue": "No module named 'statsmodels'",
     "output_type": "error",
     "traceback": [
      "\u001b[0;31m---------------------------------------------------------------------------\u001b[0m",
      "\u001b[0;31mModuleNotFoundError\u001b[0m                       Traceback (most recent call last)",
      "Cell \u001b[0;32mIn [6], line 2\u001b[0m\n\u001b[1;32m      1\u001b[0m \u001b[38;5;66;03m#from plotnine import *\u001b[39;00m\n\u001b[0;32m----> 2\u001b[0m \u001b[38;5;28;01mimport\u001b[39;00m \u001b[38;5;21;01mstatsmodels\u001b[39;00m\u001b[38;5;21;01m.\u001b[39;00m\u001b[38;5;21;01mapi\u001b[39;00m \u001b[38;5;28;01mas\u001b[39;00m \u001b[38;5;21;01msm\u001b[39;00m\n",
      "\u001b[0;31mModuleNotFoundError\u001b[0m: No module named 'statsmodels'"
     ]
    }
   ],
   "source": [
    "\n",
    "#from plotnine import *\n",
    "import statsmodels.api as sm"
   ]
  },
  {
   "cell_type": "code",
   "execution_count": null,
   "metadata": {},
   "outputs": [],
   "source": [
    "%%javascript\n",
    "// Disable auto-scrolling\n",
    "IPython.OutputArea.prototype._should_scroll = function(lines) {\n",
    "    return false;\n",
    "}"
   ]
  },
  {
   "cell_type": "code",
   "execution_count": null,
   "metadata": {},
   "outputs": [],
   "source": [
    "%%R\n",
    "\n",
    "# My commonly used R imports\n",
    "\n",
    "require('tidyverse')\n",
    "require('DescTools')\n",
    "require('ggrepel')"
   ]
  },
  {
   "cell_type": "markdown",
   "metadata": {},
   "source": [
    "## Load the data\n",
    "\n",
    "read mtcars"
   ]
  },
  {
   "cell_type": "code",
   "execution_count": null,
   "metadata": {},
   "outputs": [],
   "source": [
    "from plotnine.data import mtcars\n",
    "mtcars.head()"
   ]
  },
  {
   "cell_type": "markdown",
   "metadata": {},
   "source": [
    "## Logistic Regression \n",
    "\n",
    "What is the probability that a car is automatic or manual given it's weight and horsepower? \n",
    "\n",
    "In other words: `am ~ wt + hp`"
   ]
  },
  {
   "cell_type": "code",
   "execution_count": null,
   "metadata": {},
   "outputs": [],
   "source": [
    "%%R \n",
    "\n",
    "logistic <- glm(am ~ wt + hp, data = mtcars, family = binomial(link = 'logit'))\n",
    "print(summary(logistic))\n",
    "print(exp(coef(logistic)))\n",
    "print(PseudoR2(logistic, which = 'McFadden'))"
   ]
  },
  {
   "cell_type": "markdown",
   "metadata": {},
   "source": [
    "Oh look, a pseudo r^2 of .76. That's pretty good.\n",
    "\n",
    "But now, what if our goal was prediction, not inference. Suppose I don't care much about how these things are related to one another. I just want to build a machine that categorizes cars as automatic or manual.\n",
    "\n",
    "Visually, this is what we're doing"
   ]
  },
  {
   "cell_type": "code",
   "execution_count": null,
   "metadata": {},
   "outputs": [],
   "source": [
    "%%R -w 750 -i mtcars\n",
    "\n",
    "mtcars$am <- factor(mtcars$am, labels = c('Automatic', 'Manual'))\n",
    "\n",
    "ggplot(mtcars) +\n",
    "    aes(x=wt, y=hp, color=am, shape=am, label=name) +\n",
    "    geom_point(size=4) + \n",
    "    geom_text_repel() +\n",
    "    theme_bw() + \n",
    "    labs(\n",
    "        title=\"Automatic vs Manual cars in mtcars\",\n",
    "        y = \"Horsepower (hp)\", x= \"Weight (wt)\")"
   ]
  },
  {
   "cell_type": "markdown",
   "metadata": {},
   "source": [
    "What is a classification task? The idea is to train an algorithm that will a boundary between the two categories and categorize any new data that comes in accurately. "
   ]
  },
  {
   "cell_type": "markdown",
   "metadata": {},
   "source": [
    "![](flashcards/Classification_web.png)"
   ]
  },
  {
   "cell_type": "markdown",
   "metadata": {},
   "source": [
    "## The logistic regression is a classifier!!!\n",
    "\n",
    "or...well...it can become one"
   ]
  },
  {
   "cell_type": "code",
   "execution_count": null,
   "metadata": {},
   "outputs": [],
   "source": [
    "%%R \n",
    "\n",
    "df <- mtcars %>% mutate(\n",
    "    prediction_odds = exp(predict(logistic)),\n",
    "    prediction_pct = prediction_odds / (1 + prediction_odds),\n",
    "    prediction = ifelse(prediction_pct > 0.5, 'Manual', 'Automatic')\n",
    ")\n",
    "\n",
    "df %>% head()"
   ]
  },
  {
   "cell_type": "code",
   "execution_count": null,
   "metadata": {},
   "outputs": [],
   "source": [
    "%%R -o df\n",
    "\n",
    "df %>% select(wt, hp, prediction, am) %>% head()"
   ]
  },
  {
   "cell_type": "markdown",
   "metadata": {},
   "source": [
    "## How well did our classifier do?"
   ]
  },
  {
   "cell_type": "code",
   "execution_count": null,
   "metadata": {},
   "outputs": [],
   "source": [
    "pd.crosstab(df.prediction, df.am)"
   ]
  }
 ],
 "metadata": {
  "kernelspec": {
   "display_name": "Python 3 (ipykernel)",
   "language": "python",
   "name": "python3"
  },
  "language_info": {
   "codemirror_mode": {
    "name": "ipython",
    "version": 3
   },
   "file_extension": ".py",
   "mimetype": "text/x-python",
   "name": "python",
   "nbconvert_exporter": "python",
   "pygments_lexer": "ipython3",
   "version": "3.11.0rc2"
  }
 },
 "nbformat": 4,
 "nbformat_minor": 1
}
